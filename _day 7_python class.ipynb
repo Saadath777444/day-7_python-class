{
 "cells": [
  {
   "cell_type": "code",
   "execution_count": null,
   "id": "137975c1",
   "metadata": {},
   "outputs": [],
   "source": [
    "introcuction to dictionary datatype:\n",
    "    "
   ]
  },
  {
   "cell_type": "code",
   "execution_count": null,
   "id": "8ea177fa",
   "metadata": {},
   "outputs": [],
   "source": []
  },
  {
   "cell_type": "code",
   "execution_count": null,
   "id": "72ead583",
   "metadata": {},
   "outputs": [],
   "source": [
    "#req : creating a alien name"
   ]
  },
  {
   "cell_type": "code",
   "execution_count": null,
   "id": "2401e26a",
   "metadata": {},
   "outputs": [],
   "source": []
  },
  {
   "cell_type": "code",
   "execution_count": 1,
   "id": "c0924d8a",
   "metadata": {},
   "outputs": [],
   "source": [
    "alien = {'color':'green','points':5}"
   ]
  },
  {
   "cell_type": "code",
   "execution_count": 2,
   "id": "60cdbc50",
   "metadata": {},
   "outputs": [
    {
     "name": "stdout",
     "output_type": "stream",
     "text": [
      "{'color': 'green', 'points': 5}\n"
     ]
    }
   ],
   "source": [
    "print(alien)"
   ]
  },
  {
   "cell_type": "code",
   "execution_count": 3,
   "id": "dbd87c4e",
   "metadata": {},
   "outputs": [
    {
     "data": {
      "text/plain": [
       "dict"
      ]
     },
     "execution_count": 3,
     "metadata": {},
     "output_type": "execute_result"
    }
   ],
   "source": [
    "type(alien)"
   ]
  },
  {
   "cell_type": "code",
   "execution_count": null,
   "id": "e363df42",
   "metadata": {},
   "outputs": [],
   "source": []
  },
  {
   "cell_type": "code",
   "execution_count": null,
   "id": "fbba6b0c",
   "metadata": {},
   "outputs": [],
   "source": [
    "#req : i want to add aditional properties start_position : 0"
   ]
  },
  {
   "cell_type": "code",
   "execution_count": 5,
   "id": "9c058c61",
   "metadata": {},
   "outputs": [],
   "source": [
    "alien['start_position'] = 0"
   ]
  },
  {
   "cell_type": "code",
   "execution_count": 6,
   "id": "03e5d222",
   "metadata": {},
   "outputs": [
    {
     "name": "stdout",
     "output_type": "stream",
     "text": [
      "{'color': 'green', 'points': 5, 'start_position': 0}\n"
     ]
    }
   ],
   "source": [
    "print(alien)"
   ]
  },
  {
   "cell_type": "code",
   "execution_count": null,
   "id": "065c400a",
   "metadata": {},
   "outputs": [],
   "source": [
    "|#how to modify the key value pairs.... "
   ]
  },
  {
   "cell_type": "code",
   "execution_count": 7,
   "id": "7e31d795",
   "metadata": {},
   "outputs": [
    {
     "name": "stdout",
     "output_type": "stream",
     "text": [
      "{'color': 'green', 'points': 5, 'start_position': 0}\n"
     ]
    }
   ],
   "source": [
    "print(alien)\n"
   ]
  },
  {
   "cell_type": "code",
   "execution_count": 8,
   "id": "4c04bfc9",
   "metadata": {},
   "outputs": [],
   "source": [
    "alien['start_position'] = 2"
   ]
  },
  {
   "cell_type": "code",
   "execution_count": 9,
   "id": "f7c75f5b",
   "metadata": {},
   "outputs": [
    {
     "name": "stdout",
     "output_type": "stream",
     "text": [
      "{'color': 'green', 'points': 5, 'start_position': 2}\n"
     ]
    }
   ],
   "source": [
    "print(alien)"
   ]
  },
  {
   "cell_type": "code",
   "execution_count": null,
   "id": "72cc2910",
   "metadata": {},
   "outputs": [],
   "source": []
  }
 ],
 "metadata": {
  "kernelspec": {
   "display_name": "Python 3",
   "language": "python",
   "name": "python3"
  },
  "language_info": {
   "codemirror_mode": {
    "name": "ipython",
    "version": 3
   },
   "file_extension": ".py",
   "mimetype": "text/x-python",
   "name": "python",
   "nbconvert_exporter": "python",
   "pygments_lexer": "ipython3",
   "version": "3.8.8"
  }
 },
 "nbformat": 4,
 "nbformat_minor": 5
}
